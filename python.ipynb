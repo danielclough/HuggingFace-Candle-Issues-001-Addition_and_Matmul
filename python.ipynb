{
 "cells": [
  {
   "cell_type": "code",
   "execution_count": 2,
   "metadata": {},
   "outputs": [],
   "source": [
    "# Import Torch\n",
    "import torch"
   ]
  },
  {
   "cell_type": "code",
   "execution_count": 4,
   "metadata": {},
   "outputs": [
    {
     "name": "stdout",
     "output_type": "stream",
     "text": [
      "tensor:  tensor([1, 2, 3])\n",
      "tensor:  tensor([11, 12, 13])\n",
      "matmuled:  tensor(74)\n"
     ]
    }
   ],
   "source": [
    "# Create a tensor of values and add a number to it\n",
    "tensor = torch.tensor([1, 2, 3])\n",
    "added = tensor + 10\n",
    "\n",
    "print(\"tensor: \", tensor)\n",
    "print(\"tensor: \", added)\n",
    "\n",
    "# Matrix Multiply\n",
    "matmuled = torch.matmul(tensor, added)\n",
    "print(\"matmuled: \", matmuled)"
   ]
  }
 ],
 "metadata": {
  "kernelspec": {
   "display_name": "venv",
   "language": "python",
   "name": "python3"
  },
  "language_info": {
   "codemirror_mode": {
    "name": "ipython",
    "version": 3
   },
   "file_extension": ".py",
   "mimetype": "text/x-python",
   "name": "python",
   "nbconvert_exporter": "python",
   "pygments_lexer": "ipython3",
   "version": "3.10.12"
  }
 },
 "nbformat": 4,
 "nbformat_minor": 2
}
