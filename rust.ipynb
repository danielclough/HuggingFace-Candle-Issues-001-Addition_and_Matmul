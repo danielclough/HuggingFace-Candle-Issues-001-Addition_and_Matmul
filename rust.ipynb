{
 "cells": [
  {
   "cell_type": "code",
   "execution_count": 2,
   "metadata": {
    "vscode": {
     "languageId": "rust"
    }
   },
   "outputs": [],
   "source": [
    ":dep candle-core = { git = \"https://github.com/huggingface/candle.git\", version = \"0.3.0\", features = [\"cuda\"] }\n",
    "\n",
    "use candle_core::{Device, Tensor};"
   ]
  },
  {
   "cell_type": "code",
   "execution_count": 3,
   "metadata": {
    "vscode": {
     "languageId": "rust"
    }
   },
   "outputs": [
    {
     "name": "stdout",
     "output_type": "stream",
     "text": [
      "tensor (to_vec1): [1.0, 2.0, 3.0]\n",
      "tensor (to_vec1): [11.0, 12.0, 13.0]\n"
     ]
    },
    {
     "name": "stderr",
     "output_type": "stream",
     "text": [
      "shape mismatch in matmul, lhs: [3], rhs: [3]\n",
      "   0: candle_core::error::Error::bt\n",
      "   1: candle_core::tensor::Tensor::matmul\n",
      "   2: <core::panic::unwind_safe::AssertUnwindSafe<F> as core::ops::function::FnOnce<()>>::call_once\n",
      "   3: run_user_code_2\n",
      "   4: evcxr::runtime::Runtime::run_loop\n",
      "   5: evcxr::runtime::runtime_hook\n",
      "   6: evcxr_jupyter::main\n",
      "   7: std::sys_common::backtrace::__rust_begin_short_backtrace\n",
      "   8: std::rt::lang_start::{{closure}}\n",
      "   9: core::ops::function::impls::<impl core::ops::function::FnOnce<A> for &F>::call_once\n",
      "             at /rustc/cc66ad468955717ab92600c770da8c1601a4ff33/library/core/src/ops/function.rs:284:13\n",
      "  10: std::panicking::try::do_call\n",
      "             at /rustc/cc66ad468955717ab92600c770da8c1601a4ff33/library/std/src/panicking.rs:502:40\n",
      "  11: std::panicking::try\n",
      "             at /rustc/cc66ad468955717ab92600c770da8c1601a4ff33/library/std/src/panicking.rs:466:19\n",
      "  12: std::panic::catch_unwind\n",
      "             at /rustc/cc66ad468955717ab92600c770da8c1601a4ff33/library/std/src/panic.rs:142:14\n",
      "  13: std::rt::lang_start_internal::{{closure}}\n",
      "             at /rustc/cc66ad468955717ab92600c770da8c1601a4ff33/library/std/src/rt.rs:148:48\n",
      "  14: std::panicking::try::do_call\n",
      "             at /rustc/cc66ad468955717ab92600c770da8c1601a4ff33/library/std/src/panicking.rs:502:40\n",
      "  15: std::panicking::try\n",
      "             at /rustc/cc66ad468955717ab92600c770da8c1601a4ff33/library/std/src/panicking.rs:466:19\n",
      "  16: std::panic::catch_unwind\n",
      "             at /rustc/cc66ad468955717ab92600c770da8c1601a4ff33/library/std/src/panic.rs:142:14\n",
      "  17: std::rt::lang_start_internal\n",
      "             at /rustc/cc66ad468955717ab92600c770da8c1601a4ff33/library/std/src/rt.rs:148:20\n",
      "  18: main\n",
      "  19: <unknown>\n",
      "  20: __libc_start_main\n",
      "  21: _start\n",
      "\n"
     ]
    }
   ],
   "source": [
    "// not required in python\n",
    "let device = Device::cuda_if_available(0)?;\n",
    "\n",
    "// tensor = torch.tensor([1, 2, 3])\n",
    "let tensor = Tensor::new(&[1f32, 2.0, 3.0], &device)?;\n",
    "\n",
    "// added = tensor + 10\n",
    "let tensor_to_add = Tensor::new(&[10f32, 10.0, 10.0], &device)?;\n",
    "let added = tensor.add(&tensor_to_add)?;\n",
    "\n",
    "// print(\"tensor: \", tensor)\n",
    "println!(\n",
    "    \"tensor (to_vec1): {:?}\",\n",
    "    tensor.to_vec1::<f32>()?\n",
    ");\n",
    "\n",
    "// print(\"tensor: \", added)\n",
    "println!(\n",
    "    \"tensor (to_vec1): {:?}\",\n",
    "    added.to_vec1::<f32>()?\n",
    ");    \n",
    "\n",
    "// \n",
    "// Matrix Multiply (Broken)\n",
    "// \n",
    "\n",
    "// matmuled = torch.matmul(tensor, added)\n",
    "let matmuled = tensor.matmul(&added)?;\n",
    "\n",
    "// print(\"matmuled: \", matmuled)\n",
    "println!(\"\\nmatmuled:\\t{:?}\", matmuled.to_vec1::<f32>());"
   ]
  }
 ],
 "metadata": {
  "kernelspec": {
   "display_name": "Rust",
   "language": "rust",
   "name": "rust"
  },
  "language_info": {
   "codemirror_mode": "rust",
   "file_extension": ".rs",
   "mimetype": "text/rust",
   "name": "Rust",
   "pygment_lexer": "rust",
   "version": ""
  }
 },
 "nbformat": 4,
 "nbformat_minor": 2
}
