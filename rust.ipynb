{
 "cells": [
  {
   "cell_type": "code",
   "execution_count": 2,
   "metadata": {
    "vscode": {
     "languageId": "rust"
    }
   },
   "outputs": [],
   "source": [
    ":dep candle-core = { git = \"https://github.com/huggingface/candle.git\", version = \"0.3.0\", features = [\"cuda\"] }\n",
    "\n",
    "use candle_core::{Device, Tensor};"
   ]
  },
  {
   "cell_type": "code",
   "execution_count": 4,
   "metadata": {
    "vscode": {
     "languageId": "rust"
    }
   },
   "outputs": [
    {
     "name": "stdout",
     "output_type": "stream",
     "text": [
      "tensor (to_vec1): [1.0, 2.0, 3.0]\n"
     ]
    },
    {
     "name": "stdout",
     "output_type": "stream",
     "text": [
      "tensor (to_vec1): [11.0, 12.0, 13.0]\n"
     ]
    }
   ],
   "source": [
    "// not required in python\n",
    "let device = Device::cuda_if_available(0)?;\n",
    "\n",
    "// tensor = torch.tensor([1, 2, 3])\n",
    "let tensor = Tensor::new(&[1f32, 2.0, 3.0], &device)?;\n",
    "\n",
    "// added = tensor + 10\n",
    "let tensor_to_add = Tensor::new(&[10f32, 10.0, 10.0], &device)?;\n",
    "let added = tensor.add(&tensor_to_add)?;\n",
    "\n",
    "// print(\"tensor: \", tensor)\n",
    "println!(\n",
    "    \"tensor (to_vec1): {:?}\",\n",
    "    tensor.to_vec1::<f32>()?\n",
    ");\n",
    "\n",
    "// print(\"tensor: \", added)\n",
    "println!(\n",
    "    \"tensor (to_vec1): {:?}\",\n",
    "    added.to_vec1::<f32>()?\n",
    ");\n",
    "\n"
   ]
  },
  {
   "cell_type": "markdown",
   "metadata": {},
   "source": [
    "I would expect this next `matmul` to be a dot product.\n",
    "\n",
    "Here is some context from the pytorch docs:\n",
    "> torch.matmul\n",
    ">\n",
    "> If both tensors are 1-dimensional, the dot product (scalar) is returned.\n",
    "> \n",
    "> source: https://pytorch.org/docs/stable/generated/torch.matmul.html\n"
   ]
  },
  {
   "cell_type": "code",
   "execution_count": null,
   "metadata": {
    "vscode": {
     "languageId": "rust"
    }
   },
   "outputs": [],
   "source": [
    "// \n",
    "// Matrix Multiply (Broken)\n",
    "// \n",
    "\n",
    "// matmuled = torch.matmul(tensor, added)\n",
    "let matmuled = tensor.matmul(&added)?;\n",
    "\n",
    "// print(\"matmuled: \", matmuled)\n",
    "println!(\"\\nmatmuled:\\t{:?}\", matmuled.to_vec1::<f32>());"
   ]
  },
  {
   "cell_type": "markdown",
   "metadata": {},
   "source": [
    "If I `unsqueeze` into 2D it works."
   ]
  },
  {
   "cell_type": "code",
   "execution_count": 10,
   "metadata": {
    "vscode": {
     "languageId": "rust"
    }
   },
   "outputs": [
    {
     "name": "stdout",
     "output_type": "stream",
     "text": [
      "\n",
      "matmuled:\tOk([[74.0]])\n"
     ]
    }
   ],
   "source": [
    "\n",
    "// matmuled = torch.matmul(tensor, added)\n",
    "let matmuled = Tensor::unsqueeze(&tensor,0)?.matmul(&Tensor::unsqueeze(&added,1)?)?;\n",
    "\n",
    "// print(\"matmuled: \", matmuled)\n",
    "println!(\"\\nmatmuled:\\t{:?}\", matmuled.to_vec2::<f32>());"
   ]
  }
 ],
 "metadata": {
  "kernelspec": {
   "display_name": "Rust",
   "language": "rust",
   "name": "rust"
  },
  "language_info": {
   "codemirror_mode": "rust",
   "file_extension": ".rs",
   "mimetype": "text/rust",
   "name": "Rust",
   "pygment_lexer": "rust",
   "version": ""
  }
 },
 "nbformat": 4,
 "nbformat_minor": 2
}
